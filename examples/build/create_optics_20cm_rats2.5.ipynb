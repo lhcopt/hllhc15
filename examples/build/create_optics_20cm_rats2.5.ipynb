{
 "cells": [
  {
   "cell_type": "code",
   "execution_count": 1,
   "metadata": {},
   "outputs": [],
   "source": [
    "import sys\n",
    "import numpy as np\n",
    "import pandas as pd\n",
    "import shutil    \n",
    "import os\n",
    "sys.path.append('/afs/cern.ch/eng/tracking-tools/modules')\n",
    "import pymask as pm"
   ]
  },
  {
   "cell_type": "code",
   "execution_count": 2,
   "metadata": {},
   "outputs": [],
   "source": [
    "command_log_file='log.madx'\n",
    "stdout_file='stdout.madx'\n",
    "Madx = pm.Madxp\n",
    "with open(stdout_file, 'w') as myFile:\n",
    "    mad = Madx(stdout=myFile,command_log=command_log_file)"
   ]
  },
  {
   "cell_type": "markdown",
   "metadata": {},
   "source": [
    "# Create thick optics 20 cm, r=2.5"
   ]
  },
  {
   "cell_type": "code",
   "execution_count": 4,
   "metadata": {},
   "outputs": [
    {
     "name": "stdout",
     "output_type": "stream",
     "text": [
      "[0.15 0.16 0.17 0.18 0.19 0.2 ]\n"
     ]
    }
   ],
   "source": [
    "# Starting from optics file 15 cm, r=3.33\n",
    "filename0 = 'slhc/round/opt_round_150_1500.madx'\n",
    "# beta squeeze\n",
    "betas   = np.arange(0.15, 0.21, 0.01)\n",
    "# beta pre-squeeze, 2.5*20=50 cm\n",
    "betas_0 = [0.5 for i in betas]"
   ]
  },
  {
   "cell_type": "code",
   "execution_count": 5,
   "metadata": {
    "scrolled": true
   },
   "outputs": [
    {
     "name": "stdout",
     "output_type": "stream",
     "text": [
      "Current study: 1/6\n",
      "Current study: 2/6\n",
      "Current study: 3/6\n",
      "Current study: 4/6\n",
      "Current study: 5/6\n",
      "Current study: 6/6\n",
      "Requested betas:  0.20000000000000004 0.5 0.20000000000000004 0.5\n",
      "Final betas:  0.20000000000000004 0.5000000000007427 0.20000000000000004 0.4999999999998181\n"
     ]
    }
   ],
   "source": [
    "for kk in range(len(betas)):\n",
    "    print('Current study: %s/%s' %(kk+1, len(betas)))\n",
    "    betx_IP1  = betas[kk]\n",
    "    betx0_IP1 = betas_0[kk]\n",
    "    betx_IP5  = betas[kk]\n",
    "    betx0_IP5 = betas_0[kk]\n",
    "    bety_IP1  = betas[kk]\n",
    "    bety0_IP1 = betas_0[kk]\n",
    "    bety_IP5  = betas[kk]\n",
    "    bety0_IP5 = betas_0[kk]\n",
    "\n",
    "    madx_to_read = filename0\n",
    "    ################## Load initial optics ################## \n",
    "    mad.input('''\n",
    "    Option,  warn,info;\n",
    "    System,\"rm -rf temp\";\n",
    "    System,\"mkdir temp\";\n",
    "\n",
    "    system,\"ln -fns /afs/cern.ch/eng/lhc/optics/HLLHCV1.5 slhc\";\n",
    "    system,\"ln -fns /afs/cern.ch/eng/lhc/optics/runIII lhc\";\n",
    "\n",
    "    call,file=\"lhc/lhc.seq\";\n",
    "    call,file=\"slhc/toolkit/macro.madx\"; \n",
    "    call,file=\"slhc/hllhc_sequence.madx\"; \n",
    "    !call,file=\"slhc/ramp/opt_ramp_1000_1500_thin.madx\";\n",
    "    call,file=\"%s\";\n",
    "    !exec,myslice;\n",
    "\n",
    "    exec,mk_beam(7000);\n",
    "    exec,check_ip(b1); exec,check_ip(b2); \n",
    "\n",
    "    use, sequence=lhcb1;\n",
    "    select, flag=twiss, clear;\n",
    "    twiss,chrom,file=\"last_twiss.tfs\";\n",
    "\n",
    "    ''' %(madx_to_read))\n",
    "    ################## Change betas and betas0 ##################     \n",
    "    mad.globals.betx_IP1 =betx_IP1\n",
    "    mad.globals.betx0_IP1=betx0_IP1\n",
    "    mad.globals.betx_IP5 =betx_IP5\n",
    "    mad.globals.betx0_IP5 =betx0_IP5\n",
    "\n",
    "    mad.globals.bety_IP1 =bety_IP1\n",
    "    mad.globals.bety0_IP1=bety0_IP1\n",
    "    mad.globals.bety_IP5 =bety_IP5\n",
    "    mad.globals.bety0_IP5 =bety0_IP5\n",
    "\n",
    "    if kk==len(betas)-1:\n",
    "        print(\"Requested betas: \", mad.globals.betx_IP1, mad.globals.betx0_IP1, mad.globals.betx_IP5, mad.globals.betx0_IP5)\n",
    "\n",
    "    \n",
    "    ################## Run rematch_hllhc script up to W rematch ################## \n",
    "    mad.input('''\n",
    "\n",
    "    exec, round_phases;\n",
    "\n",
    "    exec,rematch_arc(1,2,12);\n",
    "    exec,rematch_arc(2,3,23);\n",
    "    exec,rematch_arc(3,4,34);\n",
    "    exec,rematch_arc(4,5,45);\n",
    "    exec,rematch_arc(5,6,56);\n",
    "    exec,rematch_arc(6,7,67);\n",
    "    exec,rematch_arc(7,8,78);\n",
    "    exec,rematch_arc(8,1,81);\n",
    "\n",
    "    scxir1=betx_IP1/betx0_IP1;\n",
    "    scyir1=bety_IP1/bety0_IP1;\n",
    "    scxir5=betx_IP5/betx0_IP5;\n",
    "    scyir5=bety_IP5/bety0_IP5;\n",
    "\n",
    "    value,scxir1,scyir1,scxir5,scyir5;\n",
    "\n",
    "    exec,selectIR15(5,45,56,b1);\n",
    "    exec,selectIR15(5,45,56,b2);\n",
    "    exec,selectIR15(1,81,12,b1);\n",
    "    exec,selectIR15(1,81,12,b2);\n",
    "\n",
    "    on_holdselect=1; jac_calls=   15;jac_tol=1e-20; jac_bisec=3;\n",
    "\n",
    "    if (sc79==0){sc79=0.999;};\n",
    "    if (sch==0) {sch =0.99; };\n",
    "    if (imb==0) {imb=1.50;};\n",
    "    if (scl==0) {scl=0.06;};\n",
    "    grad=132.6; bmaxds=500;\n",
    "    betxip5b1=betx0_IP5; betyip5b1=bety0_IP5;\n",
    "    betxip5b2=betx0_IP5; betyip5b2=bety0_IP5;\n",
    "    betxip1b1=betx0_IP1; betyip1b1=bety0_IP1;\n",
    "    betxip1b2=betx0_IP1; betyip1b2=bety0_IP1;\n",
    "\n",
    "    match_on_triplet=0; call,file=\"slhc/toolkit/rematch_ir15b12.madx\";\n",
    "    call,file=\"slhc/toolkit/rematch_ir15b12.madx\";\n",
    "\n",
    "    betxip5b1=betx_IP5; betyip5b1=bety_IP5;\n",
    "    betxip5b2=betx_IP5; betyip5b2=bety_IP5;\n",
    "    betxip1b1=betx_IP1; betyip1b1=bety_IP1;\n",
    "    betxip1b2=betx_IP1; betyip1b2=bety_IP1;\n",
    "\n",
    "    exec,select(3,23,34,b1);\n",
    "    exec,select(3,23,34,b2);\n",
    "    exec,select(7,67,78,b1);\n",
    "    exec,select(7,67,78,b2);\n",
    "\n",
    "    call,file=\"slhc/toolkit/rematch_ir3b1.madx\";\n",
    "    call,file=\"slhc/toolkit/rematch_ir3b2.madx\";\n",
    "    call,file=\"slhc/toolkit/rematch_ir7b1.madx\";\n",
    "    call,file=\"slhc/toolkit/rematch_ir7b2.madx\";\n",
    "\n",
    "\n",
    "    exec,selectIRAUX(7,8,1,2,3,b1,scxir1,scyir1,betx0_ip1,bety0_ip1);\n",
    "    exec,selectIRAUX(7,8,1,2,3,b2,scxir1,scyir1,betx0_ip1,bety0_ip1);\n",
    "    exec,selectIRAUX(3,4,5,6,7,b1,scxir5,scyir5,betx0_ip5,bety0_ip5);\n",
    "    exec,selectIRAUX(3,4,5,6,7,b2,scxir5,scyir5,betx0_ip5,bety0_ip5);\n",
    "\n",
    "    call,file=\"slhc/toolkit/rematch_ir2b12.madx\";\n",
    "    call,file=\"slhc/toolkit/rematch_ir8b12.madx\";\n",
    "    call,file=\"slhc/toolkit/rematch_ir4b1.madx\";\n",
    "    call,file=\"slhc/toolkit/rematch_ir4b2.madx\";\n",
    "    jac_calls=   15;\n",
    "    !dxip6b1=0;dpxip6b1=0; dxip6b2=0;dpxip6b2=0;\n",
    "    !call,file=rematch_ir6b1m.madx;\n",
    "    !call,file=rematch_ir6b2m.madx;\n",
    "    !dxip6b1=0;dpxip6b1=0; dxip6b2=0;dpxip6b2=0;\n",
    "    nomatch_dx=1; nomatch_dpx=1;\n",
    "    call,file=\"slhc/toolkit/rematch_ir6b1.madx\";\n",
    "    call,file=\"slhc/toolkit/rematch_ir6b2.madx\";\n",
    "    nomatch_dx=0; nomatch_dpx=0;\n",
    "    call,file=\"slhc/toolkit/rematch_ir6b1.madx\";\n",
    "    call,file=\"slhc/toolkit/rematch_ir6b2.madx\";\n",
    "    value,tarir2b1,tarir4b1,tarir6b1,tarir8b1;\n",
    "    value,tarir2b2,tarir4b2,tarir6b2,tarir8b2;\n",
    "    value,tarir3b1,tarir7b1,tarir3b2,tarir7b2;\n",
    "    value,tarir1b1,tarir5b1,tarir1b2,tarir5b2;\n",
    "\n",
    "\n",
    "    tarsqueeze=tarir2b1+tarir4b1+tarir6b1+tarir8b1+\n",
    "               tarir2b2+tarir4b2+tarir6b2+tarir8b2+\n",
    "               tarir3b1+tarir7b1+tarir3b2+tarir7b2+\n",
    "               tarir1b1+tarir5b1+tarir1b2+tarir5b2;\n",
    "\n",
    "    exec,check_ip(b1); exec,check_ip(b2);\n",
    "    value,tarsqueeze;\n",
    "\n",
    "    if (tarsqueeze>1e-15 || match_optics_only==1){return;};\n",
    "\n",
    "\n",
    "    call,file=\"slhc/toolkit/rematch_xing_ir15.madx\";\n",
    "    call,file=\"slhc/toolkit/rematch_xing_ir28.madx\";\n",
    "\n",
    "    value,tar_xing_ir15,tar_xing_ir28;\n",
    "\n",
    "    ksf=0.06;ksd=-0.099;\n",
    "    exec,set_sext_all(ksf,ksd,ksf,ksd); k2max=0.38;\n",
    "    ''')\n",
    "    \n",
    "    ################## Save intermediate optics in optics dir##################\n",
    "    filename = 'opt_round_%s_1500_set_sext_all' %int(mad.globals.betx_IP1*1000)\n",
    "    mad.input('''\n",
    "    exec,save_optics_hllhc(\"%s.madx\");\n",
    "    ''' %filename)\n",
    "    if not os.path.exists('optics'):\n",
    "        os.makedirs('optics')\n",
    "    shutil.move(\"%s.madx\" %filename, \"optics/%s.madx\" %filename)\n",
    "    filename0 = \"optics/%s.madx\" %filename \n",
    "    \n",
    "    if kk==len(betas)-1:\n",
    "        print(\"Final betas: \", mad.globals.betx_IP1, mad.globals.betx0_IP1, mad.globals.betx_IP5, mad.globals.betx0_IP5)\n"
   ]
  },
  {
   "cell_type": "code",
   "execution_count": 6,
   "metadata": {},
   "outputs": [
    {
     "data": {
      "text/plain": [
       "True"
      ]
     },
     "execution_count": 6,
     "metadata": {},
     "output_type": "execute_result"
    }
   ],
   "source": [
    "################## Rematch W, disp & crabs ##################\n",
    "filename = 'opt_round_7TeV_%s_1500' %int(round(mad.globals.betx_IP1,2)*1000)\n",
    "\n",
    "mad.input('''\n",
    "if (match_w2==0){\n",
    "call,file=\"slhc/toolkit/rematch_w.madx\";\n",
    "call,file=\"slhc/toolkit/rematch_disp.madx\";\n",
    "};\n",
    "if (match_w2==2){\n",
    "call,file=\"slhc/toolkit/rematch_w2.madx\";\n",
    "call,file=\"slhc/toolkit/rematch_disp2.madx\";\n",
    "};\n",
    "\n",
    "call,file=\"slhc/toolkit/rematch_crabs.madx\";\n",
    "call,file=\"slhc/toolkit/mk_arc_trims.madx\";\n",
    "\n",
    "value,tarsqueeze, tar_xing_ir15, tar_xing_ir28, tar_on_disp;\n",
    "\n",
    "exec,save_optics_hllhc(\"%s.madx\");\n",
    "use, sequence=lhcb1;\n",
    "select, flag=twiss, clear;\n",
    "twiss,chrom,file=\"last_twiss.tfs\";\n",
    "\n",
    "'''%filename)"
   ]
  },
  {
   "cell_type": "code",
   "execution_count": 7,
   "metadata": {},
   "outputs": [
    {
     "name": "stdout",
     "output_type": "stream",
     "text": [
      "Betas:\n",
      "0.19999999998976287 10.000000000633657 0.19999999998731588 1.4999999998835791\n",
      "Final tunes and chroma::\n",
      "62.3100000000181 60.320000000010346 1.9994823148294927 2.00008621931147\n",
      "tarsqueeze:  2.7024115234459403e-20\n"
     ]
    }
   ],
   "source": [
    "twiss_final = mad.get_twiss_df(table_name='twiss')\n",
    "summ_final = (mad.table['summ'].dframe())\n",
    "\n",
    "print('Betas:')\n",
    "print(twiss_final.loc['ip1:1'].betx, twiss_final.loc['ip2:1'].betx, twiss_final.loc['ip5:1'].betx, twiss_final.loc['ip8:1'].betx)\n",
    "print('Final tunes and chroma::')\n",
    "print(summ_final['q1'].values[0], summ_final['q2'].values[0], summ_final['dq1'].values[0], summ_final['dq2'].values[0])\n",
    "print('tarsqueeze: ', mad.globals.tarsqueeze)"
   ]
  },
  {
   "cell_type": "markdown",
   "metadata": {},
   "source": [
    "# Create thin optics 20 cm, r=2.5"
   ]
  },
  {
   "cell_type": "code",
   "execution_count": 3,
   "metadata": {},
   "outputs": [],
   "source": [
    "command_log_file='log.madx'\n",
    "stdout_file='stdout.madx'\n",
    "Madx = pm.Madxp\n",
    "with open(stdout_file, 'w') as myFile:\n",
    "    mad = Madx(stdout=myFile,command_log=command_log_file)"
   ]
  },
  {
   "cell_type": "code",
   "execution_count": 4,
   "metadata": {},
   "outputs": [
    {
     "data": {
      "text/plain": [
       "True"
      ]
     },
     "execution_count": 4,
     "metadata": {},
     "output_type": "execute_result"
    }
   ],
   "source": [
    "filename = \"opt_round_7TeV_200_1500\"\n",
    "mad.input('''\n",
    "    Option,  warn,info;\n",
    "    System,\"rm -rf temp\";\n",
    "    System,\"mkdir temp\";\n",
    "\n",
    "    system,\"ln -fns /afs/cern.ch/eng/lhc/optics/HLLHCV1.5 slhc\";\n",
    "    system,\"ln -fns /afs/cern.ch/eng/lhc/optics/runIII lhc\";\n",
    "\n",
    "    call,file=\"lhc/lhc.seq\";\n",
    "    call,file=\"slhc/toolkit/macro.madx\"; \n",
    "    call,file=\"slhc/hllhc_sequence.madx\"; \n",
    "    call,file=\"%s.madx\";\n",
    "    exec,myslice;\n",
    "\n",
    "    exec,mk_beam(7000);\n",
    "    !exec,check_ip(b1); exec,check_ip(b2); \n",
    "    call,file=\"slhc/toolkit/rematch_hllhc.madx\"; \n",
    "    exec,save_optics_hllhc(\"%s_thin.madx\");\n",
    "\n",
    "'''%(filename, filename))"
   ]
  },
  {
   "cell_type": "markdown",
   "metadata": {},
   "source": [
    "# No MS.10 thick optics"
   ]
  },
  {
   "cell_type": "code",
   "execution_count": 2,
   "metadata": {},
   "outputs": [],
   "source": [
    "command_log_file='log.madx'\n",
    "stdout_file='stdout.madx'\n",
    "Madx = pm.Madxp\n",
    "with open(stdout_file, 'w') as myFile:\n",
    "    mad = Madx(stdout=myFile,command_log=command_log_file)"
   ]
  },
  {
   "cell_type": "code",
   "execution_count": 3,
   "metadata": {},
   "outputs": [],
   "source": [
    "filename = \"opt_round_7TeV_200_1500\"\n",
    "mad.input('''\n",
    "Option,  warn,info;\n",
    "System,\"rm -rf temp\";\n",
    "System,\"mkdir temp\";\n",
    "\n",
    "system,\"ln -fns /afs/cern.ch/eng/lhc/optics/HLLHCV1.5 slhc\";\n",
    "system,\"ln -fns /afs/cern.ch/eng/lhc/optics/runIII lhc\";\n",
    "\n",
    "call,file=\"lhc/lhc.seq\";\n",
    "call,file=\"slhc/toolkit/macro.madx\"; \n",
    "call,file=\"slhc/hllhc_sequence.madx\"; \n",
    "call,file=\"%s.madx\";\n",
    "\n",
    "\n",
    "exec,mk_beam(7000);\n",
    "exec,check_ip(b1); exec,check_ip(b2); \n",
    "!call,file=\"slhc/toolkit/rematch_hllhc.madx\"; \n",
    "\n",
    "use, sequence=lhcb1;\n",
    "select, flag=twiss, clear;\n",
    "twiss,chrom,file=\"initial_twiss.tfs\";\n",
    "\n",
    "'''%filename)\n",
    "\n",
    "twiss_initial = mad.get_twiss_df(table_name='twiss')\n",
    "summ_initial  = mad.table.summ.dframe()"
   ]
  },
  {
   "cell_type": "code",
   "execution_count": 4,
   "metadata": {},
   "outputs": [],
   "source": [
    "filename = \"opt_round_NoMS10_7TeV_200_1500\"\n",
    "\n",
    "mad.input('''\n",
    "exec, DISABLE_SEXT(MS.10);\n",
    "ksf=0.06;ksd=-0.099;\n",
    "exec,set_sext_all(ksf,ksd,ksf,ksd); k2max=0.38;\n",
    "\n",
    "if (match_w2==0){\n",
    "call,file=\"slhc/toolkit/rematch_w.madx\";\n",
    "call,file=\"slhc/toolkit/rematch_disp.madx\";\n",
    "};\n",
    "if (match_w2==2){\n",
    "call,file=\"slhc/toolkit/rematch_w2.madx\";\n",
    "call,file=\"slhc/toolkit/rematch_disp2.madx\";\n",
    "};\n",
    "\n",
    "call,file=\"slhc/toolkit/rematch_crabs.madx\";\n",
    "call,file=\"slhc/toolkit/mk_arc_trims.madx\";\n",
    "\n",
    "value,tarsqueeze, tar_xing_ir15, tar_xing_ir28, tar_on_disp;\n",
    "\n",
    "exec,save_optics_hllhc(\"%s.madx\");\n",
    "\n",
    "use, sequence=lhcb1;\n",
    "select, flag=twiss, clear;\n",
    "twiss,chrom,file=\"last_twiss.tfs\";\n",
    "\n",
    "'''%filename)\n",
    "\n",
    "twiss_final = mad.get_twiss_df(table_name='twiss')\n",
    "summ_final  = mad.table.summ.dframe()\n"
   ]
  },
  {
   "cell_type": "code",
   "execution_count": 5,
   "metadata": {},
   "outputs": [
    {
     "name": "stdout",
     "output_type": "stream",
     "text": [
      "Betas:\n",
      "0.19999999998981188 10.00000000063152 0.19999999998732493 1.499999999883938\n",
      "Initial tunes and chroma:\n",
      "62.3100000000037 60.320000000000434 1.9994826487845785 2.0000871998604453\n",
      "Final tunes and chroma::\n",
      "62.31000000001794 60.32000000001016 1.9987614123806452 2.0009106478369176\n",
      "Initial k2l MS.10:\n",
      "\n",
      "ms.10r1.b1:1   -0.134393\n",
      "ms.10l5.b1:1    0.080561\n",
      "ms.10r5.b1:1   -0.134093\n",
      "ms.10l1.b1:1    0.100547\n",
      "Name: k2l, dtype: float64\n",
      "Final k2l MS.10:\n",
      "\n",
      "ms.10l5.b1:1    0.0\n",
      "ms.10r5.b1:1    0.0\n",
      "ms.10l1.b1:1    0.0\n",
      "ms.10r1.b1:1    0.0\n",
      "Name: k2l, dtype: float64\n"
     ]
    }
   ],
   "source": [
    "\n",
    "# beta in IP1,2,5,8\n",
    "print('Betas:')\n",
    "print(twiss_final.loc['ip1:1'].betx, twiss_final.loc['ip2:1'].betx, twiss_final.loc['ip5:1'].betx, twiss_final.loc['ip8:1'].betx)\n",
    "\n",
    "# tunes & chromaticity\n",
    "print('Initial tunes and chroma:')\n",
    "print(summ_initial['q1'].values[0], summ_initial['q2'].values[0], summ_initial['dq1'].values[0], summ_initial['dq2'].values[0])\n",
    "print('Final tunes and chroma::')\n",
    "print(summ_final['q1'].values[0], summ_final['q2'].values[0], summ_final['dq1'].values[0], summ_final['dq2'].values[0])\n",
    "\n",
    "\n",
    "# MS.10 k2l\n",
    "print('Initial k2l MS.10:')\n",
    "print(twiss_initial[twiss_initial.index.str.contains('ms.10')]['k2l'])\n",
    "print('Final k2l MS.10:')\n",
    "print(twiss_final[twiss_final.index.str.contains('ms.10')]['k2l'])"
   ]
  },
  {
   "cell_type": "markdown",
   "metadata": {},
   "source": [
    "# No MS.10 thin optics"
   ]
  },
  {
   "cell_type": "code",
   "execution_count": 3,
   "metadata": {},
   "outputs": [],
   "source": [
    "command_log_file='log.madx'\n",
    "stdout_file='stdout.madx'\n",
    "Madx = pm.Madxp\n",
    "with open(stdout_file, 'w') as myFile:\n",
    "    mad = Madx(stdout=myFile,command_log=command_log_file)"
   ]
  },
  {
   "cell_type": "code",
   "execution_count": 4,
   "metadata": {},
   "outputs": [
    {
     "data": {
      "text/plain": [
       "True"
      ]
     },
     "execution_count": 4,
     "metadata": {},
     "output_type": "execute_result"
    }
   ],
   "source": [
    "filename = \"opt_round_NoMS10_7TeV_200_1500\"\n",
    "mad.input('''\n",
    "    Option,  warn,info;\n",
    "    System,\"rm -rf temp\";\n",
    "    System,\"mkdir temp\";\n",
    "\n",
    "    system,\"ln -fns /afs/cern.ch/eng/lhc/optics/HLLHCV1.5 slhc\";\n",
    "    system,\"ln -fns /afs/cern.ch/eng/lhc/optics/runIII lhc\";\n",
    "\n",
    "    call,file=\"lhc/lhc.seq\";\n",
    "    call,file=\"slhc/toolkit/macro.madx\"; \n",
    "    \n",
    "    call,file=\"slhc/hllhc_sequence.madx\"; \n",
    "    exec, DISABLE_SEXT(MS.10);\n",
    "    \n",
    "    call,file=\"%s.madx\";\n",
    "    exec,myslice;\n",
    "\n",
    "    exec,mk_beam(7000);\n",
    "    !exec,check_ip(b1); exec,check_ip(b2); \n",
    "    call,file=\"slhc/toolkit/rematch_hllhc.madx\"; \n",
    "    exec,save_optics_hllhc(\"%s_thin.madx\");\n",
    "\n",
    "'''%(filename, filename))"
   ]
  },
  {
   "cell_type": "markdown",
   "metadata": {},
   "source": [
    "# Sanity check thin optics no MS.10"
   ]
  },
  {
   "cell_type": "code",
   "execution_count": 5,
   "metadata": {},
   "outputs": [],
   "source": [
    "command_log_file='log2.madx'\n",
    "stdout_file='stdout2.madx'\n",
    "Madx = pm.Madxp\n",
    "with open(stdout_file, 'w') as myFile:\n",
    "    mad2 = Madx(stdout=myFile,command_log=command_log_file)"
   ]
  },
  {
   "cell_type": "code",
   "execution_count": 6,
   "metadata": {},
   "outputs": [],
   "source": [
    "filename = \"opt_round_NoMS10_7TeV_200_1500_thin\"\n",
    "mad2.input('''\n",
    "Option,  warn,info;\n",
    "System,\"rm -rf temp\";\n",
    "System,\"mkdir temp\";\n",
    "\n",
    "system,\"ln -fns /afs/cern.ch/eng/lhc/optics/HLLHCV1.5 slhc\";\n",
    "system,\"ln -fns /afs/cern.ch/eng/lhc/optics/runIII lhc\";\n",
    "\n",
    "call,file=\"lhc/lhc.seq\";\n",
    "call,file=\"slhc/toolkit/macro.madx\"; \n",
    "call,file=\"slhc/hllhc_sequence.madx\"; \n",
    "\n",
    "exec, DISABLE_SEXT(MS.10);\n",
    "\n",
    "call,file=\"%s.madx\";\n",
    "\n",
    "exec,myslice;\n",
    "\n",
    "exec,mk_beam(7000);\n",
    "exec,check_ip(b1); exec,check_ip(b2); \n",
    "!call,file=\"slhc/toolkit/rematch_hllhc.madx\"; \n",
    "\n",
    "use, sequence=lhcb1;\n",
    "select, flag=twiss, clear;\n",
    "twiss,chrom,file=\"initial_twiss.tfs\";\n",
    "\n",
    "'''%filename)\n",
    "\n",
    "twiss_initial = mad2.get_twiss_df(table_name='twiss')\n",
    "summ_initial  = mad2.table.summ.dframe()"
   ]
  },
  {
   "cell_type": "code",
   "execution_count": 7,
   "metadata": {},
   "outputs": [
    {
     "name": "stdout",
     "output_type": "stream",
     "text": [
      "Betas:\n",
      "0.20000000000006365 9.99999999999534 0.20000000000012588 1.5000000000015532\n",
      "Initial tunes and chroma:\n",
      "62.3100004654774 60.32000046102331 1.980000646994995 1.9993189468436867\n",
      "Initial k2l MS.10:\n",
      "\n",
      "ms.10r1.b1:1    0.0\n",
      "ms.10l5.b1:1    0.0\n",
      "ms.10r5.b1:1    0.0\n",
      "ms.10l1.b1:1    0.0\n",
      "Name: k2l, dtype: float64\n"
     ]
    }
   ],
   "source": [
    "print('Betas:')\n",
    "print(twiss_initial.loc['ip1:1'].betx, twiss_initial.loc['ip2:1'].betx, twiss_initial.loc['ip5:1'].betx, twiss_initial.loc['ip8:1'].betx)\n",
    "\n",
    "# tunes & chromaticity\n",
    "print('Initial tunes and chroma:')\n",
    "print(summ_initial['q1'].values[0], summ_initial['q2'].values[0], summ_initial['dq1'].values[0], summ_initial['dq2'].values[0])\n",
    "\n",
    "\n",
    "# MS.10 k2l\n",
    "print('Initial k2l MS.10:')\n",
    "print(twiss_initial[twiss_initial.index.str.contains('ms.10')]['k2l'])"
   ]
  },
  {
   "cell_type": "code",
   "execution_count": null,
   "metadata": {},
   "outputs": [],
   "source": []
  }
 ],
 "metadata": {
  "kernelspec": {
   "display_name": "Python 3",
   "language": "python",
   "name": "python3"
  },
  "language_info": {
   "codemirror_mode": {
    "name": "ipython",
    "version": 3
   },
   "file_extension": ".py",
   "mimetype": "text/x-python",
   "name": "python",
   "nbconvert_exporter": "python",
   "pygments_lexer": "ipython3",
   "version": "3.6.9"
  }
 },
 "nbformat": 4,
 "nbformat_minor": 2
}
